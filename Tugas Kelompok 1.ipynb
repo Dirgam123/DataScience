{
 "cells": [
  {
   "cell_type": "markdown",
   "metadata": {},
   "source": [
    "TUGAS KELOMPOK 1\n",
    "NAMA\n",
    "1. I Gede Eka Agung Agastya Punia (2502121143)\n",
    "2. Mufida Salma (2502127153)"
   ]
  },
  {
   "cell_type": "code",
   "execution_count": 1,
   "metadata": {},
   "outputs": [],
   "source": [
    "import pandas as pd\n",
    "import seaborn as sns\n",
    "import matplotlib.pyplot as plt"
   ]
  },
  {
   "cell_type": "code",
   "execution_count": 2,
   "metadata": {},
   "outputs": [
    {
     "name": "stderr",
     "output_type": "stream",
     "text": [
      "<>:1: SyntaxWarning: invalid escape sequence '\\K'\n",
      "<>:1: SyntaxWarning: invalid escape sequence '\\K'\n",
      "C:\\Users\\Agung\\AppData\\Local\\Temp\\ipykernel_29608\\1835195124.py:1: SyntaxWarning: invalid escape sequence '\\K'\n",
      "  df = pd.read_excel('E:\\Kuliah\\CS\\Data Science\\DataTK1.xlsx', sheet_name='Sheet1')\n"
     ]
    }
   ],
   "source": [
    "df = pd.read_excel('E:\\Kuliah\\CS\\Data Science\\DataTK1.xlsx', sheet_name='Sheet1')"
   ]
  },
  {
   "cell_type": "code",
   "execution_count": 3,
   "metadata": {},
   "outputs": [
    {
     "data": {
      "text/html": [
       "<div>\n",
       "<style scoped>\n",
       "    .dataframe tbody tr th:only-of-type {\n",
       "        vertical-align: middle;\n",
       "    }\n",
       "\n",
       "    .dataframe tbody tr th {\n",
       "        vertical-align: top;\n",
       "    }\n",
       "\n",
       "    .dataframe thead th {\n",
       "        text-align: right;\n",
       "    }\n",
       "</style>\n",
       "<table border=\"1\" class=\"dataframe\">\n",
       "  <thead>\n",
       "    <tr style=\"text-align: right;\">\n",
       "      <th></th>\n",
       "      <th>NO</th>\n",
       "      <th>JENIS KELAMIN</th>\n",
       "      <th>STATUS MAHASISWA</th>\n",
       "      <th>STATUS PERNIKAHAN</th>\n",
       "      <th>IPK SEMESTER 1-6</th>\n",
       "      <th>STATUS KELULUSAN</th>\n",
       "    </tr>\n",
       "  </thead>\n",
       "  <tbody>\n",
       "    <tr>\n",
       "      <th>0</th>\n",
       "      <td>1</td>\n",
       "      <td>LAKI - LAKI</td>\n",
       "      <td>MAHASISWA</td>\n",
       "      <td>BELUM</td>\n",
       "      <td>3,17</td>\n",
       "      <td>TEPAT</td>\n",
       "    </tr>\n",
       "    <tr>\n",
       "      <th>1</th>\n",
       "      <td>2</td>\n",
       "      <td>LAKI - LAKI</td>\n",
       "      <td>BEKERJA</td>\n",
       "      <td>BELUM</td>\n",
       "      <td>3,30</td>\n",
       "      <td>TEPAT</td>\n",
       "    </tr>\n",
       "    <tr>\n",
       "      <th>2</th>\n",
       "      <td>3</td>\n",
       "      <td>PEREMPUAN</td>\n",
       "      <td>MAHASISWA</td>\n",
       "      <td>BELUM</td>\n",
       "      <td>3,01</td>\n",
       "      <td>TEPAT</td>\n",
       "    </tr>\n",
       "    <tr>\n",
       "      <th>3</th>\n",
       "      <td>4</td>\n",
       "      <td>PEREMPUAN</td>\n",
       "      <td>MAHASISWA</td>\n",
       "      <td>MENIKAH</td>\n",
       "      <td>3,25</td>\n",
       "      <td>TEPAT</td>\n",
       "    </tr>\n",
       "    <tr>\n",
       "      <th>4</th>\n",
       "      <td>5</td>\n",
       "      <td>LAKI - LAKI</td>\n",
       "      <td>BEKERJA</td>\n",
       "      <td>MENIKAH</td>\n",
       "      <td>3,20</td>\n",
       "      <td>TEPAT</td>\n",
       "    </tr>\n",
       "  </tbody>\n",
       "</table>\n",
       "</div>"
      ],
      "text/plain": [
       "   NO JENIS KELAMIN STATUS MAHASISWA STATUS PERNIKAHAN IPK SEMESTER 1-6  \\\n",
       "0   1   LAKI - LAKI        MAHASISWA             BELUM             3,17   \n",
       "1   2   LAKI - LAKI          BEKERJA             BELUM             3,30   \n",
       "2   3     PEREMPUAN        MAHASISWA             BELUM             3,01   \n",
       "3   4     PEREMPUAN        MAHASISWA           MENIKAH             3,25   \n",
       "4   5   LAKI - LAKI          BEKERJA           MENIKAH             3,20   \n",
       "\n",
       "  STATUS KELULUSAN  \n",
       "0            TEPAT  \n",
       "1            TEPAT  \n",
       "2            TEPAT  \n",
       "3            TEPAT  \n",
       "4            TEPAT  "
      ]
     },
     "execution_count": 3,
     "metadata": {},
     "output_type": "execute_result"
    }
   ],
   "source": [
    "df.head()"
   ]
  },
  {
   "cell_type": "code",
   "execution_count": 4,
   "metadata": {},
   "outputs": [
    {
     "data": {
      "image/png": "[encoded data removed]",
      "text/plain": [
       "<Figure size 800x600 with 1 Axes>"
      ]
     },
     "metadata": {},
     "output_type": "display_data"
    }
   ],
   "source": [
    "plt.figure(figsize=(8, 6))\n",
    "count_plot = sns.countplot(data=df, x='JENIS KELAMIN', hue='STATUS KELULUSAN')"
   ]
  }
 ],
 "metadata": {
  "kernelspec": {
   "display_name": "Python 3",
   "language": "python",
   "name": "python3"
  },
  "language_info": {
   "codemirror_mode": {
    "name": "ipython",
    "version": 3
   },
   "file_extension": ".py",
   "mimetype": "text/x-python",
   "name": "python",
   "nbconvert_exporter": "python",
   "pygments_lexer": "ipython3",
   "version": "3.12.5"
  }
 },
 "nbformat": 4,
 "nbformat_minor": 2
}
